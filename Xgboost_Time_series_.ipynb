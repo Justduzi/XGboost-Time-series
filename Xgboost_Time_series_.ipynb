{
  "nbformat": 4,
  "nbformat_minor": 0,
  "metadata": {
    "colab": {
      "provenance": [],
      "authorship_tag": "ABX9TyP0Xpy6atkb6LcNs4jLjUHu",
      "include_colab_link": true
    },
    "kernelspec": {
      "name": "python3",
      "display_name": "Python 3"
    },
    "language_info": {
      "name": "python"
    }
  },
  "cells": [
    {
      "cell_type": "markdown",
      "metadata": {
        "id": "view-in-github",
        "colab_type": "text"
      },
      "source": [
        "<a href=\"https://colab.research.google.com/github/Justduzi/XGboost-Time-series/blob/main/Xgboost_Time_series_.ipynb\" target=\"_parent\"><img src=\"https://colab.research.google.com/assets/colab-badge.svg\" alt=\"Open In Colab\"/></a>"
      ]
    },
    {
      "cell_type": "code",
      "execution_count": 1,
      "metadata": {
        "id": "ySWvuwSkydzO"
      },
      "outputs": [],
      "source": [
        "import pandas as pd\n",
        "import numpy as np\n",
        "import matplotlib.pyplot as plt\n",
        "import seaborn as sns\n",
        "\n",
        "import xgboost as xgb\n"
      ]
    },
    {
      "cell_type": "code",
      "source": [
        "df = pd.read_csv('PJME_hourly.csv')\n",
        "df = df.set_index('Datetime')\n",
        "df.index = pd.to_datetime(df.index)"
      ],
      "metadata": {
        "id": "WtDrQCa3115x"
      },
      "execution_count": null,
      "outputs": []
    },
    {
      "cell_type": "code",
      "source": [
        "df.plot(style='.',\n",
        "        figsize=(15, 5),\n",
        "        color=color_pal[0],\n",
        "        title='PJME Energy Use in MW')\n",
        "plt.show()"
      ],
      "metadata": {
        "id": "wodCcj7l12Xt"
      },
      "execution_count": null,
      "outputs": []
    },
    {
      "cell_type": "code",
      "source": [
        "train = df.loc[df.index < '01-01-2015']\n",
        "test = df.loc[df.index >= '01-01-2015']\n",
        "\n",
        "fig, ax = plt.subplots(figsize=(15, 5))\n",
        "train.plot(ax=ax, label='Training Set', title='Data Train/Test Split')\n",
        "test.plot(ax=ax, label='Test Set')\n",
        "ax.axvline('01-01-2015', color='black', ls='--')\n",
        "ax.legend(['Training Set', 'Test Set'])\n",
        "plt.show()"
      ],
      "metadata": {
        "id": "83EkPnxR19J6"
      },
      "execution_count": null,
      "outputs": []
    },
    {
      "cell_type": "code",
      "source": [],
      "metadata": {
        "id": "Gtu5GgR_2HqU"
      },
      "execution_count": null,
      "outputs": []
    }
  ]
}